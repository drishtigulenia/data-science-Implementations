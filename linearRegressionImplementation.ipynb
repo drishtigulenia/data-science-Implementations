{
  "nbformat": 4,
  "nbformat_minor": 0,
  "metadata": {
    "colab": {
      "name": "linearRegressionImplementation.ipynb",
      "provenance": [],
      "authorship_tag": "ABX9TyOxvRZlggcmUJYou4ftaZd7",
      "include_colab_link": true
    },
    "kernelspec": {
      "name": "python3",
      "display_name": "Python 3"
    },
    "language_info": {
      "name": "python"
    }
  },
  "cells": [
    {
      "cell_type": "markdown",
      "metadata": {
        "id": "view-in-github",
        "colab_type": "text"
      },
      "source": [
        "<a href=\"https://colab.research.google.com/github/drishtigulenia/data-science-Implementations/blob/main/linearRegressionImplementation.ipynb\" target=\"_parent\"><img src=\"https://colab.research.google.com/assets/colab-badge.svg\" alt=\"Open In Colab\"/></a>"
      ]
    },
    {
      "cell_type": "code",
      "metadata": {
        "id": "xYgiSaodxKwG"
      },
      "source": [
        "from statistics import mean\n",
        "import numpy as np\n",
        "import matplotlib.pyplot as plt\n",
        "import random"
      ],
      "execution_count": 171,
      "outputs": []
    },
    {
      "cell_type": "code",
      "metadata": {
        "colab": {
          "base_uri": "https://localhost:8080/",
          "height": 265
        },
        "id": "UZO1ZPo-xdmu",
        "outputId": "7780c675-9551-49de-e321-69c9dcc03752"
      },
      "source": [
        "# dataset\n",
        "# xs = np.array([1, 2, 3, 4, 5, 6], dtype=np.float64)\n",
        "# ys = np.array([5, 4, 6, 5, 6, 7], dtype=np.float64)\n",
        "\n",
        "# generating random dataset\n",
        "def create_dataset(hm, varience, step=2, correlation='neg'):\n",
        "  ys = []\n",
        "  val = 1\n",
        "  for i in range(hm):\n",
        "    y = val + random.randrange(-varience, varience)\n",
        "    ys.append(y)\n",
        "    if correlation == 'pos':\n",
        "      val+=step\n",
        "    elif correlation == 'neg':\n",
        "      val-=step\n",
        "  xs = [i for i in range(len(ys))]\n",
        "  return np.array(xs, dtype=np.float64), np.array(ys, dtype=np.float64)\n",
        "\n",
        "# visualizing dataset\n",
        "xs, ys = create_dataset(40,10,2,'neg')\n",
        "plt.scatter(xs,ys)\n",
        "plt.show()"
      ],
      "execution_count": 172,
      "outputs": [
        {
          "output_type": "display_data",
          "data": {
            "image/png": "[encoded data removed]",
            "text/plain": [
              "<Figure size 432x288 with 1 Axes>"
            ]
          },
          "metadata": {
            "tags": [],
            "needs_background": "light"
          }
        }
      ]
    },
    {
      "cell_type": "code",
      "metadata": {
        "colab": {
          "base_uri": "https://localhost:8080/"
        },
        "id": "JRLoarQyx78G",
        "outputId": "971823f7-4694-49e2-fa4a-be4b0b5d3f01"
      },
      "source": [
        "# determining best fit slope and best fit intercept\n",
        "# slope = m(x) * m(y) - m(x*y) / (m(x))^2 - m(x^2) where m is mean\n",
        "# intercept = m(y) - slope*x\n",
        "def best_fit_slope_and_intercept(x, y):\n",
        "  m = (((mean(x) * mean(y)) - mean(x*y)) / ((mean(x) * mean(x)) - mean(x*x)))\n",
        "  c = mean(y) - m*mean(x)\n",
        "  return m, c;\n",
        "\n",
        "m,c = best_fit_slope_and_intercept(xs,ys)\n",
        "print(m,c)"
      ],
      "execution_count": 173,
      "outputs": [
        {
          "output_type": "stream",
          "text": [
            "-1.9651031894934343 -1.3304878048780324\n"
          ],
          "name": "stdout"
        }
      ]
    },
    {
      "cell_type": "code",
      "metadata": {
        "colab": {
          "base_uri": "https://localhost:8080/",
          "height": 265
        },
        "id": "b2_akPfv2Ylg",
        "outputId": "6a4f4834-ba83-48a1-fc13-a85a1035e9dd"
      },
      "source": [
        "# regression line equation\n",
        "regression_line = [(m*x)+c for x in xs]\n",
        "\n",
        "# plotting regression line\n",
        "plt.plot(xs, regression_line)\n",
        "\n",
        "# scattering dataset points\n",
        "plt.scatter(xs, ys)\n",
        "\n",
        "# predicting specific value\n",
        "predict_x = 8\n",
        "predict_y = (m*predict_x) + c\n",
        "\n",
        "# scattering predicted value\n",
        "plt.scatter(predict_x, predict_y, color = 'g', s=200)\n",
        "plt.show()"
      ],
      "execution_count": 174,
      "outputs": [
        {
          "output_type": "display_data",
          "data": {
            "image/png": "[encoded data removed]",
            "text/plain": [
              "<Figure size 432x288 with 1 Axes>"
            ]
          },
          "metadata": {
            "tags": [],
            "needs_background": "light"
          }
        }
      ]
    },
    {
      "cell_type": "code",
      "metadata": {
        "colab": {
          "base_uri": "https://localhost:8080/"
        },
        "id": "aPVh95DA4tCH",
        "outputId": "d7298e59-b9c8-41c9-d6ca-d1babf75b7df"
      },
      "source": [
        "# But how accurate is this line?\n",
        "# The way we determine the accuracy or confidence(both used interchangeably only in case of linear regression)\n",
        "# is through r-squared or the coefficient of determination\n",
        "\n",
        "# the value of R^2 has nothing to do with how “linear” the data is. It’s simply the ratio of how much variation \n",
        "# is explained by your model (best fit line) to the total variation (in the data set).\n",
        "# r-squared = 1 - squared_error(regression_line)/ squared_error(mean_line)\n",
        "# You can have a “flat” series of data (parallel to the x-axis) with very little scatter, and a linear regression \n",
        "# will give R^2 very close to zero.  \n",
        "# for example having data like:\n",
        "# xs = np.array([1, 2, 3, 4, 5, 6], dtype=np.float64)\n",
        "# ys = np.array([7, 7, 7, 7, 7, 7], dtype=np.float64)\n",
        "# u will get r-squared as nan, squared error of regression line becomes 0 as well as squared error of mean line is also 0\n",
        "# and r becomes 1-(0/0) which is nan. But we know our regression line is matching the mean line properly. Still it is\n",
        "# not giving us a correct output. Therefore we use p-value to determine that will indicate the significance of the\n",
        "# linear relationship.\n",
        "\n",
        "\n",
        "def squared_error(y_orig, y_line):\n",
        "    return sum((y_orig - y_line)**2)\n",
        "\n",
        "def coefficient_of_determination(y_orig, y_line):\n",
        "  squared_error_regr = squared_error(y_orig, y_line)\n",
        "  y_mean_line = [mean(y_orig) for y in y_orig]\n",
        "  squared_error_mean_line = squared_error(y_orig, y_mean_line)\n",
        "  return 1-(squared_error_regr/squared_error_mean_line)\n",
        "\n",
        "r_squared = coefficient_of_determination(ys, regression_line)\n",
        "r_squared"
      ],
      "execution_count": 175,
      "outputs": [
        {
          "output_type": "execute_result",
          "data": {
            "text/plain": [
              "0.9468830159843871"
            ]
          },
          "metadata": {
            "tags": []
          },
          "execution_count": 175
        }
      ]
    },
    {
      "cell_type": "code",
      "metadata": {
        "id": "NZ4ITReYhGU7",
        "colab": {
          "base_uri": "https://localhost:8080/",
          "height": 265
        },
        "outputId": "3e9e57c8-6058-41a4-aab2-810961568aec"
      },
      "source": [
        "# implementaion with gradient descent\n",
        "\n",
        "xg, yg = create_dataset(100,30,2,'pos')\n",
        "plt.scatter(xg,yg);\n",
        "plt.show()\n",
        "xg3 = xg\n",
        "\n",
        "# reshaping\n",
        "xg =np.vstack((np.ones((xg.size, )), xg)).T"
      ],
      "execution_count": 176,
      "outputs": [
        {
          "output_type": "display_data",
          "data": {
            "image/png": "[encoded data removed]",
            "text/plain": [
              "<Figure size 432x288 with 1 Axes>"
            ]
          },
          "metadata": {
            "tags": [],
            "needs_background": "light"
          }
        }
      ]
    },
    {
      "cell_type": "code",
      "metadata": {
        "id": "mInISZkRoQ_f"
      },
      "source": [
        "def model(X,Y,learning_rate, iterations):\n",
        "  m = Y.size\n",
        "\n",
        "  # initializing theta\n",
        "  theta = np.zeros((2,1))\n",
        "\n",
        "  cost_l = []\n",
        "  for i in range(iterations):\n",
        "\n",
        "    # prediction of y\n",
        "    y_pred = np.dot(theta.T, X.T)\n",
        "\n",
        "    # cost funtion - squared error\n",
        "    cost = (1/(2 * m)) * np.sum(np.square(y_pred - Y));\n",
        "\n",
        "    # derivative of cost function\n",
        "    d_theta = (1/m) * np.dot(X.T, (y_pred - Y).T)\n",
        "\n",
        "    # updating theta\n",
        "    theta = theta - (learning_rate*d_theta)\n",
        "    cost_l.append(cost)\n",
        "  return theta, cost_l"
      ],
      "execution_count": 177,
      "outputs": []
    },
    {
      "cell_type": "code",
      "metadata": {
        "colab": {
          "base_uri": "https://localhost:8080/",
          "height": 282
        },
        "id": "rp6yX3qWsY3k",
        "outputId": "9d8c4cd5-2b90-45cc-bb1d-4b51c85a5de0"
      },
      "source": [
        "iterations = 15\n",
        "learning_rate = 0.00005\n",
        "\n",
        "theta, cost = model(xg,yg,learning_rate=learning_rate, iterations=iterations)\n",
        "\n",
        "# predicting values\n",
        "x_pred = np.array([[1, 100], [1, 108], [1, -9], [1, -34]])\n",
        "y_pred = np.dot(theta.T, xg.T)\n",
        "\n",
        "# reshaping\n",
        "xg = xg[:,1]\n",
        "xg = xg.reshape(xg.size,1)\n",
        "\n",
        "# plotting regression line\n",
        "plt.plot(xg, y_pred.T)\n",
        "\n",
        "# scattering original data\n",
        "plt.scatter(xg3, yg)\n",
        "\n",
        "# predicting data\n",
        "y_pred2 = np.dot(x_pred, theta)\n",
        "\n",
        "# reshaping\n",
        "x_pred = np.array(x_pred[:,1])\n",
        "\n",
        "# scattering predicted data\n",
        "plt.scatter(x_pred, y_pred2, s=200)\n",
        "\n",
        "plt.show"
      ],
      "execution_count": 178,
      "outputs": [
        {
          "output_type": "execute_result",
          "data": {
            "text/plain": [
              "<function matplotlib.pyplot.show>"
            ]
          },
          "metadata": {
            "tags": []
          },
          "execution_count": 178
        },
        {
          "output_type": "display_data",
          "data": {
            "image/png": "[encoded data removed]",
            "text/plain": [
              "<Figure size 432x288 with 1 Axes>"
            ]
          },
          "metadata": {
            "tags": [],
            "needs_background": "light"
          }
        }
      ]
    },
    {
      "cell_type": "code",
      "metadata": {
        "colab": {
          "base_uri": "https://localhost:8080/",
          "height": 266
        },
        "id": "lWbsAaEturCF",
        "outputId": "122e9b9d-ef80-43ce-8cb0-ae5c83eb62b8"
      },
      "source": [
        "# checking after how many iterations training is ineffective\n",
        "rng = np.arange(0, iterations)\n",
        "plt.plot(rng, cost)\n",
        "plt.show()"
      ],
      "execution_count": 179,
      "outputs": [
        {
          "output_type": "display_data",
          "data": {
            "image/png": "[encoded data removed]",
            "text/plain": [
              "<Figure size 432x288 with 1 Axes>"
            ]
          },
          "metadata": {
            "tags": [],
            "needs_background": "light"
          }
        }
      ]
    },
    {
      "cell_type": "code",
      "metadata": {
        "colab": {
          "base_uri": "https://localhost:8080/"
        },
        "id": "99ajiTlu3jzh",
        "outputId": "1ccfc910-93bf-4b7a-81b1-013cb6c83250"
      },
      "source": [
        "# predicting r_squared\n",
        "y_pred = y_pred[0]\n",
        "r_squared = coefficient_of_determination(yg, y_pred)\n",
        "r_squared"
      ],
      "execution_count": 180,
      "outputs": [
        {
          "output_type": "execute_result",
          "data": {
            "text/plain": [
              "0.9054256519738776"
            ]
          },
          "metadata": {
            "tags": []
          },
          "execution_count": 180
        }
      ]
    }
  ]
}