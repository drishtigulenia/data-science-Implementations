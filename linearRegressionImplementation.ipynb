{
  "nbformat": 4,
  "nbformat_minor": 0,
  "metadata": {
    "colab": {
      "name": "linearRegressionImplementation.ipynb",
      "provenance": [],
      "authorship_tag": "ABX9TyOiejuRXErGIqUGg0HBZcuG",
      "include_colab_link": true
    },
    "kernelspec": {
      "name": "python3",
      "display_name": "Python 3"
    },
    "language_info": {
      "name": "python"
    }
  },
  "cells": [
    {
      "cell_type": "markdown",
      "metadata": {
        "id": "view-in-github",
        "colab_type": "text"
      },
      "source": [
        "<a href=\"https://colab.research.google.com/github/drishtigulenia/data-science-Implementations/blob/main/linearRegressionImplementation.ipynb\" target=\"_parent\"><img src=\"https://colab.research.google.com/assets/colab-badge.svg\" alt=\"Open In Colab\"/></a>"
      ]
    },
    {
      "cell_type": "code",
      "metadata": {
        "id": "xYgiSaodxKwG"
      },
      "source": [
        "from statistics import mean\n",
        "import numpy as np\n",
        "import matplotlib.pyplot as plt\n",
        "import random"
      ],
      "execution_count": 1,
      "outputs": []
    },
    {
      "cell_type": "code",
      "metadata": {
        "colab": {
          "base_uri": "https://localhost:8080/",
          "height": 265
        },
        "id": "UZO1ZPo-xdmu",
        "outputId": "7c45c534-e90e-44c8-bc7f-8fabefe149b3"
      },
      "source": [
        "# dataset\n",
        "# xs = np.array([1, 2, 3, 4, 5, 6], dtype=np.float64)\n",
        "# ys = np.array([5, 4, 6, 5, 6, 7], dtype=np.float64)\n",
        "\n",
        "# generating random dataset\n",
        "def create_dataset(hm, varience, step=2, correlation='neg'):\n",
        "  ys = []\n",
        "  val = 1\n",
        "  for i in range(hm):\n",
        "    y = val + random.randrange(-varience, varience)\n",
        "    ys.append(y)\n",
        "    if correlation == 'pos':\n",
        "      val+=step\n",
        "    elif correlation == 'neg':\n",
        "      val-=step\n",
        "  xs = [i for i in range(len(ys))]\n",
        "  return np.array(xs, dtype=np.float64), np.array(ys, dtype=np.float64)\n",
        "\n",
        "# visualizing dataset\n",
        "xs, ys = create_dataset(40,10,2,'neg')\n",
        "plt.scatter(xs,ys)\n",
        "plt.show()"
      ],
      "execution_count": 2,
      "outputs": [
        {
          "output_type": "display_data",
          "data": {
            "image/png": "[encoded data removed]",
            "text/plain": [
              "<Figure size 432x288 with 1 Axes>"
            ]
          },
          "metadata": {
            "tags": [],
            "needs_background": "light"
          }
        }
      ]
    },
    {
      "cell_type": "code",
      "metadata": {
        "colab": {
          "base_uri": "https://localhost:8080/"
        },
        "id": "JRLoarQyx78G",
        "outputId": "292faa62-25a9-4109-f8cb-4b6c3ed98f13"
      },
      "source": [
        "# determining best fit slope and best fit intercept\n",
        "# slope = m(x) * m(y) - m(x*y) / (m(x))^2 - m(x^2) where m is mean\n",
        "# intercept = m(y) - slope*x\n",
        "def best_fit_slope_and_intercept(x, y):\n",
        "  m = (((mean(x) * mean(y)) - mean(x*y)) / ((mean(x) * mean(x)) - mean(x*x)))\n",
        "  c = mean(y) - m*mean(x)\n",
        "  return m, c;\n",
        "\n",
        "m,c = best_fit_slope_and_intercept(xs,ys)\n",
        "print(m,c)"
      ],
      "execution_count": null,
      "outputs": [
        {
          "output_type": "stream",
          "text": [
            "-2.0420262664165096 1.7195121951219363\n"
          ],
          "name": "stdout"
        }
      ]
    },
    {
      "cell_type": "code",
      "metadata": {
        "colab": {
          "base_uri": "https://localhost:8080/",
          "height": 265
        },
        "id": "b2_akPfv2Ylg",
        "outputId": "c57e9d60-7ede-4341-9d27-0f5a8413335b"
      },
      "source": [
        "# regression line equation\n",
        "regression_line = [(m*x)+c for x in xs]\n",
        "\n",
        "# plotting regression line\n",
        "plt.plot(xs, regression_line)\n",
        "\n",
        "# scattering dataset points\n",
        "plt.scatter(xs, ys)\n",
        "\n",
        "# predicting specific value\n",
        "predict_x = 8\n",
        "predict_y = (m*predict_x) + c\n",
        "\n",
        "# scattering predicted value\n",
        "plt.scatter(predict_x, predict_y, color = 'g', s=200)\n",
        "plt.show()"
      ],
      "execution_count": null,
      "outputs": [
        {
          "output_type": "display_data",
          "data": {
            "image/png": "[encoded data removed]",
            "text/plain": [
              "<Figure size 432x288 with 1 Axes>"
            ]
          },
          "metadata": {
            "tags": [],
            "needs_background": "light"
          }
        }
      ]
    },
    {
      "cell_type": "code",
      "metadata": {
        "colab": {
          "base_uri": "https://localhost:8080/"
        },
        "id": "aPVh95DA4tCH",
        "outputId": "a3d67bb4-4660-4446-f7ab-5d3b3ea02d93"
      },
      "source": [
        "# But how accurate is this line?\n",
        "# The way we determine the accuracy or confidence(both used interchangeably only in case of linear regression)\n",
        "# is through r-squared or the coefficient of determination\n",
        "\n",
        "# the value of R^2 has nothing to do with how “linear” the data is. It’s simply the ratio of how much variation \n",
        "# is explained by your model (best fit line) to the total variation (in the data set).\n",
        "# r-squared = 1 - squared_error(regression_line)/ squared_error(mean_line)\n",
        "# You can have a “flat” series of data (parallel to the x-axis) with very little scatter, and a linear regression \n",
        "# will give R^2 very close to zero.  \n",
        "# for example having data like:\n",
        "# xs = np.array([1, 2, 3, 4, 5, 6], dtype=np.float64)\n",
        "# ys = np.array([7, 7, 7, 7, 7, 7], dtype=np.float64)\n",
        "# u will get r-squared as nan, squared error of regression line becomes 0 as well as squared error of mean line is also 0\n",
        "# and r becomes 1-(0/0) which is nan. But we know our regression line is matching the mean line properly. Still it is\n",
        "# not giving us a correct output. Therefore we use p-value to determine that will indicate the significance of the\n",
        "# linear relationship.\n",
        "\n",
        "\n",
        "def squared_error(y_orig, y_line):\n",
        "    return sum((y_orig - y_line)**2)\n",
        "\n",
        "def coefficient_of_determination(y_orig, y_line):\n",
        "  squared_error_regr = squared_error(y_orig, y_line)\n",
        "  y_mean_line = [mean(y_orig) for y in y_orig]\n",
        "  squared_error_mean_line = squared_error(y_orig, y_mean_line)\n",
        "  return 1-(squared_error_regr/squared_error_mean_line)\n",
        "\n",
        "r_squared = coefficient_of_determination(ys, regression_line)\n",
        "r_squared"
      ],
      "execution_count": null,
      "outputs": [
        {
          "output_type": "execute_result",
          "data": {
            "text/plain": [
              "0.9483612061853461"
            ]
          },
          "metadata": {
            "tags": []
          },
          "execution_count": 63
        }
      ]
    },
    {
      "cell_type": "code",
      "metadata": {
        "id": "NZ4ITReYhGU7",
        "colab": {
          "base_uri": "https://localhost:8080/",
          "height": 265
        },
        "outputId": "8403cdd8-4442-4094-c3be-93f3ee195074"
      },
      "source": [
        "# implementaion with gradient descent\n",
        "\n",
        "xg, yg = create_dataset(100,30,2,'pos')\n",
        "plt.scatter(xg,yg);\n",
        "plt.show()\n",
        "xg3 = xg\n",
        "# xg2 = np.ones((xg.size))\n",
        "# xg = np.append(xg2,xg3);\n",
        "# xg\n",
        "xg =np.vstack((np.ones((xg.size, )), xg)).T"
      ],
      "execution_count": 80,
      "outputs": [
        {
          "output_type": "display_data",
          "data": {
            "image/png": "[encoded data removed]",
            "text/plain": [
              "<Figure size 432x288 with 1 Axes>"
            ]
          },
          "metadata": {
            "tags": [],
            "needs_background": "light"
          }
        }
      ]
    },
    {
      "cell_type": "code",
      "metadata": {
        "id": "mInISZkRoQ_f"
      },
      "source": [
        "def model(X,Y,learning_rate, iterations):\n",
        "  m = Y.size\n",
        "  theta = np.zeros((2,1))\n",
        "  cost_l = []\n",
        "  for i in range(iterations):\n",
        "    y_pred = np.dot(theta.T, X.T)\n",
        "    cost = (1/(2 * m)) * np.sum(np.square(y_pred - Y));\n",
        "    d_theta = (1/m) * np.dot(X.T, (y_pred - Y).T)\n",
        "    theta = theta - (learning_rate*d_theta)\n",
        "    cost_l.append(cost)\n",
        "  return theta, cost_l"
      ],
      "execution_count": 141,
      "outputs": []
    },
    {
      "cell_type": "code",
      "metadata": {
        "colab": {
          "base_uri": "https://localhost:8080/",
          "height": 282
        },
        "id": "rp6yX3qWsY3k",
        "outputId": "d8e11244-21b8-43f7-f3aa-f0b58816bd26"
      },
      "source": [
        "iterations = 15\n",
        "learning_rate = 0.00005\n",
        "\n",
        "theta, cost = model(xg,yg,learning_rate=learning_rate, iterations=iterations)\n",
        "\n",
        "x_pred = np.array([[1, 1, 1, 1], [100, 108, -9, -34]])\n",
        "y_pred = np.dot(theta.T, xg.T)\n",
        "\n",
        "plt.scatter(xg[:,1], y_pred)\n",
        "plt.scatter(xg3, yg)\n",
        "plt.show"
      ],
      "execution_count": 160,
      "outputs": [
        {
          "output_type": "execute_result",
          "data": {
            "text/plain": [
              "<function matplotlib.pyplot.show>"
            ]
          },
          "metadata": {
            "tags": []
          },
          "execution_count": 160
        },
        {
          "output_type": "display_data",
          "data": {
            "image/png": "[encoded data removed]",
            "text/plain": [
              "<Figure size 432x288 with 1 Axes>"
            ]
          },
          "metadata": {
            "tags": [],
            "needs_background": "light"
          }
        }
      ]
    },
    {
      "cell_type": "code",
      "metadata": {
        "colab": {
          "base_uri": "https://localhost:8080/",
          "height": 265
        },
        "id": "lWbsAaEturCF",
        "outputId": "88e591e7-0e3e-44a4-f1a4-deaa61d5f0de"
      },
      "source": [
        "rng = np.arange(0, iterations)\n",
        "plt.plot(rng, cost)\n",
        "plt.show()"
      ],
      "execution_count": 161,
      "outputs": [
        {
          "output_type": "display_data",
          "data": {
            "image/png": "[encoded data removed]",
            "text/plain": [
              "<Figure size 432x288 with 1 Axes>"
            ]
          },
          "metadata": {
            "tags": [],
            "needs_background": "light"
          }
        }
      ]
    },
    {
      "cell_type": "code",
      "metadata": {
        "id": "99ajiTlu3jzh"
      },
      "source": [
        ""
      ],
      "execution_count": 132,
      "outputs": []
    }
  ]
}