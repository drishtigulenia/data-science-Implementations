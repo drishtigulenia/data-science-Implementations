{
  "nbformat": 4,
  "nbformat_minor": 0,
  "metadata": {
    "colab": {
      "name": "NeuralNetworkImplementation.ipynb",
      "provenance": [],
      "authorship_tag": "ABX9TyNiEoH9OZ5T8JGOTdb6Ej+3",
      "include_colab_link": true
    },
    "kernelspec": {
      "name": "python3",
      "display_name": "Python 3"
    },
    "language_info": {
      "name": "python"
    }
  },
  "cells": [
    {
      "cell_type": "markdown",
      "metadata": {
        "id": "view-in-github",
        "colab_type": "text"
      },
      "source": [
        "<a href=\"https://colab.research.google.com/github/drishtigulenia/data-science-Implementations/blob/main/NeuralNetworkImplementation.ipynb\" target=\"_parent\"><img src=\"https://colab.research.google.com/assets/colab-badge.svg\" alt=\"Open In Colab\"/></a>"
      ]
    },
    {
      "cell_type": "code",
      "metadata": {
        "id": "LBDD_WzTygzZ"
      },
      "source": [
        "import numpy as np"
      ],
      "execution_count": 1,
      "outputs": []
    },
    {
      "cell_type": "code",
      "metadata": {
        "colab": {
          "base_uri": "https://localhost:8080/"
        },
        "id": "uignSuVZypk2",
        "outputId": "fa1cf4c5-132e-4d18-85bd-2430eca20de2"
      },
      "source": [
        "# input for layer having 3 input neurons and weights for inputs going into only 1 neuron\n",
        "inputs = [0,9,8]\n",
        "weights = [8,4,6]\n",
        "bias = 2\n",
        "output = inputs[0] * weights[0] + inputs[1] * weights[1] + inputs[2] * weights[2] + bias\n",
        "output"
      ],
      "execution_count": 2,
      "outputs": [
        {
          "output_type": "execute_result",
          "data": {
            "text/plain": [
              "86"
            ]
          },
          "metadata": {
            "tags": []
          },
          "execution_count": 2
        }
      ]
    },
    {
      "cell_type": "code",
      "metadata": {
        "colab": {
          "base_uri": "https://localhost:8080/"
        },
        "id": "Jbq95VTZy_m8",
        "outputId": "374255b9-c111-4f97-8248-1a5309227799"
      },
      "source": [
        "# input for layer having 4 input neurons and weights for inputs going into only 1 neuron\n",
        "inputs = [0,7,3,5]\n",
        "weights = [8,4,2,1]\n",
        "bias = 3\n",
        "output = inputs[0] * weights[0] + inputs[1] * weights[1] + inputs[2] * weights[2] + inputs[3] * weights[3] + bias\n",
        "output"
      ],
      "execution_count": 3,
      "outputs": [
        {
          "output_type": "execute_result",
          "data": {
            "text/plain": [
              "42"
            ]
          },
          "metadata": {
            "tags": []
          },
          "execution_count": 3
        }
      ]
    },
    {
      "cell_type": "code",
      "metadata": {
        "colab": {
          "base_uri": "https://localhost:8080/"
        },
        "id": "GB6b1Hvbzvk5",
        "outputId": "36e8919b-0291-4f34-e684-216308416420"
      },
      "source": [
        "# input for layer having 4 input neurons and weights for inputs going into 3 different neurons\n",
        "inputs = [8,4,6,3]\n",
        "\n",
        "# weight for 3 different neurons\n",
        "weights1 = [5.3, 7.7, 9,2, 3,4]\n",
        "weights2 = [5.6, 3.5, 2.3, 9.7]\n",
        "weights3 = [9.5, 4.5, 3.8, 6.9]\n",
        "\n",
        "# bias for 3 different neurons\n",
        "bias1 = 4\n",
        "bias2 = 6\n",
        "bias3 = 1\n",
        "\n",
        "# output in array for 3 neurons\n",
        "output = [inputs[0] * weights1[0] + inputs[1] * weights1[1] + inputs[2] * weights1[2] + inputs[3] * weights1[3] + bias1,\n",
        "          inputs[0] * weights2[0] + inputs[1] * weights2[1] + inputs[2] * weights2[2] + inputs[3] * weights2[3] + bias2,\n",
        "          inputs[0] * weights3[0] + inputs[1] * weights3[1] + inputs[2] * weights3[2] + inputs[3] * weights3[3] + bias3]\n",
        "output"
      ],
      "execution_count": 4,
      "outputs": [
        {
          "output_type": "execute_result",
          "data": {
            "text/plain": [
              "[137.2, 107.69999999999999, 138.5]"
            ]
          },
          "metadata": {
            "tags": []
          },
          "execution_count": 4
        }
      ]
    },
    {
      "cell_type": "code",
      "metadata": {
        "colab": {
          "base_uri": "https://localhost:8080/"
        },
        "id": "10a4OHII05JS",
        "outputId": "acd3e93a-3be3-4cee-eb99-da16fb21fcee"
      },
      "source": [
        "# rough of what we gonna do in next code area\n",
        "inputs = [1,2,3,4] # for this (list in python) the size would be (4,) (in numpy it is 1D array)\n",
        "weights = [[1,2,3,4],\n",
        "           [5,6,7,8],\n",
        "           [9,10,11,12]] # for this (list in python) the size would be (3,4) (in numpy it is 2D array)\n",
        "bias = [1, 2, 3] # for this (list in python) the size would be (3,) (in numpy it is 1D array)\n",
        "output = np.dot(weights, inputs) + bias\n",
        "\n",
        "# batch inputs \n",
        "input = [[1,2,3,4],\n",
        "         [5,6,7,8],\n",
        "         [9,10,11,12]]\n",
        "\n",
        "layer1_output = np.dot(input, np.array(weights).T) + bias\n",
        "# np.dot(weights, inputs) = weights[0] * input + weights[1] * input + weights[2] * input\n",
        "output\n",
        "weights2 = [[0.8,2,1.3],\n",
        "           [0.6,-1,0.1],\n",
        "           [0.5,0.1,1]]\n",
        "\n",
        "bias2 = [1, 0, 2]\n",
        "\n",
        "layer2_output = np.dot(layer1_output, np.array(weights2).T) + bias2\n",
        "layer2_output"
      ],
      "execution_count": 20,
      "outputs": [
        {
          "output_type": "execute_result",
          "data": {
            "text/plain": [
              "array([[ 316.7,  -42.1,  137.7],\n",
              "       [ 775.1, -105.3,  336.1],\n",
              "       [1233.5, -168.5,  534.5]])"
            ]
          },
          "metadata": {
            "tags": []
          },
          "execution_count": 20
        }
      ]
    },
    {
      "cell_type": "code",
      "metadata": {
        "colab": {
          "base_uri": "https://localhost:8080/"
        },
        "id": "vipmWP81YMrD",
        "outputId": "5b53025d-b115-4c12-effa-e08a8f9e562a"
      },
      "source": [
        " X = [[1,2,3,2.5],\n",
        "      [2.0,5.0,-1.0,2.0],\n",
        "      [-1.5, 2.7, 3.3, -0.8]]\n",
        "\n",
        "class Layer_Dense:\n",
        "  def __init__(self, n_input, n_neurons):\n",
        "    self.weights = 0.10 * np.random.randn(n_input, n_neurons)\n",
        "    self.biases = np.zeros((1,n_neurons))\n",
        "  def forward(self, inputs):\n",
        "    self.output = np.dot(inputs, self.weights) + self.biases\n",
        "\n",
        "layer1 = Layer_Dense(4, 5)\n",
        "layer2 = Layer_Dense(5,2)\n",
        "layer1.forward(X)\n",
        "layer2.forward(layer1.output)\n",
        "print(layer2.output)"
      ],
      "execution_count": 22,
      "outputs": [
        {
          "output_type": "stream",
          "text": [
            "[[ 0.03610917 -0.00788229]\n",
            " [-0.20695167  0.01035638]\n",
            " [-0.0301047   0.02736081]]\n"
          ],
          "name": "stdout"
        }
      ]
    },
    {
      "cell_type": "code",
      "metadata": {
        "id": "qapQzKIvplqa"
      },
      "source": [
        ""
      ],
      "execution_count": null,
      "outputs": []
    }
  ]
}