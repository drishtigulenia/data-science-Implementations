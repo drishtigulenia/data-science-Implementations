{
  "nbformat": 4,
  "nbformat_minor": 0,
  "metadata": {
    "colab": {
      "name": "linearRegression.ipynb",
      "provenance": [],
      "authorship_tag": "ABX9TyO9jsxkpRcPtvWnc5n6TiSc",
      "include_colab_link": true
    },
    "kernelspec": {
      "name": "python3",
      "display_name": "Python 3"
    },
    "language_info": {
      "name": "python"
    }
  },
  "cells": [
    {
      "cell_type": "markdown",
      "metadata": {
        "id": "view-in-github",
        "colab_type": "text"
      },
      "source": [
        "<a href=\"https://colab.research.google.com/github/drishtigulenia/data-science-Implementations/blob/main/linearRegression.ipynb\" target=\"_parent\"><img src=\"https://colab.research.google.com/assets/colab-badge.svg\" alt=\"Open In Colab\"/></a>"
      ]
    },
    {
      "cell_type": "code",
      "metadata": {
        "id": "XNC8YpbxFr9H"
      },
      "source": [
        "# !pip install --upgrade quandl\n",
        "import pandas as pd\n",
        "import math\n",
        "import numpy as np\n",
        "from sklearn import preprocessing, model_selection, svm\n",
        "from sklearn.linear_model import LinearRegression\n",
        "# import quandl"
      ],
      "execution_count": 200,
      "outputs": []
    },
    {
      "cell_type": "code",
      "metadata": {
        "colab": {
          "base_uri": "https://localhost:8080/",
          "height": 204
        },
        "id": "zpBBbGOfJghx",
        "outputId": "ecff4650-ab26-48f1-f11e-93076865d1da"
      },
      "source": [
        "# df = quandl.get('WIKI/GOOGL')\n",
        "df = pd.read_csv('sample_data/banknifty.csv')\n",
        "df.drop_duplicates(subset=['date'], keep='last', inplace=True)\n",
        "# df['index'] = range(1, len(df) + 1)\n",
        "df['HL_PCT'] = ((df['high'] - df['low']) / df['low']) * 100\n",
        "df['PCT_change'] = ((df['close'] - df['open']) / df['open']) * 100\n",
        "df.drop(['open', 'high', 'low','index', 'time', 'date'] , axis=1, inplace=True)\n",
        "df.head()"
      ],
      "execution_count": 201,
      "outputs": [
        {
          "output_type": "execute_result",
          "data": {
            "text/html": [
              "<div>\n",
              "<style scoped>\n",
              "    .dataframe tbody tr th:only-of-type {\n",
              "        vertical-align: middle;\n",
              "    }\n",
              "\n",
              "    .dataframe tbody tr th {\n",
              "        vertical-align: top;\n",
              "    }\n",
              "\n",
              "    .dataframe thead th {\n",
              "        text-align: right;\n",
              "    }\n",
              "</style>\n",
              "<table border=\"1\" class=\"dataframe\">\n",
              "  <thead>\n",
              "    <tr style=\"text-align: right;\">\n",
              "      <th></th>\n",
              "      <th>close</th>\n",
              "      <th>HL_PCT</th>\n",
              "      <th>PCT_change</th>\n",
              "    </tr>\n",
              "  </thead>\n",
              "  <tbody>\n",
              "    <tr>\n",
              "      <th>374</th>\n",
              "      <td>12099.75</td>\n",
              "      <td>0.067381</td>\n",
              "      <td>-0.031396</td>\n",
              "    </tr>\n",
              "    <tr>\n",
              "      <th>749</th>\n",
              "      <td>12182.10</td>\n",
              "      <td>0.095267</td>\n",
              "      <td>-0.037336</td>\n",
              "    </tr>\n",
              "    <tr>\n",
              "      <th>1124</th>\n",
              "      <td>12289.20</td>\n",
              "      <td>0.047614</td>\n",
              "      <td>-0.024812</td>\n",
              "    </tr>\n",
              "    <tr>\n",
              "      <th>1499</th>\n",
              "      <td>12479.80</td>\n",
              "      <td>0.050103</td>\n",
              "      <td>0.029657</td>\n",
              "    </tr>\n",
              "    <tr>\n",
              "      <th>1874</th>\n",
              "      <td>12337.05</td>\n",
              "      <td>0.064440</td>\n",
              "      <td>-0.028767</td>\n",
              "    </tr>\n",
              "  </tbody>\n",
              "</table>\n",
              "</div>"
            ],
            "text/plain": [
              "         close    HL_PCT  PCT_change\n",
              "374   12099.75  0.067381   -0.031396\n",
              "749   12182.10  0.095267   -0.037336\n",
              "1124  12289.20  0.047614   -0.024812\n",
              "1499  12479.80  0.050103    0.029657\n",
              "1874  12337.05  0.064440   -0.028767"
            ]
          },
          "metadata": {
            "tags": []
          },
          "execution_count": 201
        }
      ]
    },
    {
      "cell_type": "code",
      "metadata": {
        "colab": {
          "base_uri": "https://localhost:8080/",
          "height": 204
        },
        "id": "Wiy_lmCras-e",
        "outputId": "10a824dc-a712-49c4-b5db-d01dbbb57d25"
      },
      "source": [
        "forecast_out = -10;\n",
        "forecast_in = 'close'\n",
        "# df.fillna(-99999, inplace=True)\n",
        "df['label'] = df[forecast_in].shift(forecast_out)\n",
        "df.dropna(inplace=True)\n",
        "df.head()\n",
        "# len(df)"
      ],
      "execution_count": 203,
      "outputs": [
        {
          "output_type": "execute_result",
          "data": {
            "text/html": [
              "<div>\n",
              "<style scoped>\n",
              "    .dataframe tbody tr th:only-of-type {\n",
              "        vertical-align: middle;\n",
              "    }\n",
              "\n",
              "    .dataframe tbody tr th {\n",
              "        vertical-align: top;\n",
              "    }\n",
              "\n",
              "    .dataframe thead th {\n",
              "        text-align: right;\n",
              "    }\n",
              "</style>\n",
              "<table border=\"1\" class=\"dataframe\">\n",
              "  <thead>\n",
              "    <tr style=\"text-align: right;\">\n",
              "      <th></th>\n",
              "      <th>close</th>\n",
              "      <th>HL_PCT</th>\n",
              "      <th>PCT_change</th>\n",
              "      <th>label</th>\n",
              "    </tr>\n",
              "  </thead>\n",
              "  <tbody>\n",
              "    <tr>\n",
              "      <th>374</th>\n",
              "      <td>12099.75</td>\n",
              "      <td>0.067381</td>\n",
              "      <td>-0.031396</td>\n",
              "      <td>12418.10</td>\n",
              "    </tr>\n",
              "    <tr>\n",
              "      <th>749</th>\n",
              "      <td>12182.10</td>\n",
              "      <td>0.095267</td>\n",
              "      <td>-0.037336</td>\n",
              "      <td>12477.80</td>\n",
              "    </tr>\n",
              "    <tr>\n",
              "      <th>1124</th>\n",
              "      <td>12289.20</td>\n",
              "      <td>0.047614</td>\n",
              "      <td>-0.024812</td>\n",
              "      <td>12487.30</td>\n",
              "    </tr>\n",
              "    <tr>\n",
              "      <th>1499</th>\n",
              "      <td>12479.80</td>\n",
              "      <td>0.050103</td>\n",
              "      <td>0.029657</td>\n",
              "      <td>12458.00</td>\n",
              "    </tr>\n",
              "    <tr>\n",
              "      <th>1874</th>\n",
              "      <td>12337.05</td>\n",
              "      <td>0.064440</td>\n",
              "      <td>-0.028767</td>\n",
              "      <td>12307.65</td>\n",
              "    </tr>\n",
              "  </tbody>\n",
              "</table>\n",
              "</div>"
            ],
            "text/plain": [
              "         close    HL_PCT  PCT_change     label\n",
              "374   12099.75  0.067381   -0.031396  12418.10\n",
              "749   12182.10  0.095267   -0.037336  12477.80\n",
              "1124  12289.20  0.047614   -0.024812  12487.30\n",
              "1499  12479.80  0.050103    0.029657  12458.00\n",
              "1874  12337.05  0.064440   -0.028767  12307.65"
            ]
          },
          "metadata": {
            "tags": []
          },
          "execution_count": 203
        }
      ]
    },
    {
      "cell_type": "code",
      "metadata": {
        "colab": {
          "base_uri": "https://localhost:8080/"
        },
        "id": "qoiTyuvAbWMy",
        "outputId": "77481dca-6fb0-47db-8f21-2a201d079033"
      },
      "source": [
        "X = np.array(df.drop(['label'], 1))\n",
        "y = np.array(df['label'])\n",
        "X = preprocessing.scale(X)\n",
        "X_train, X_test, y_train, y_test = model_selection.train_test_split(X, y, test_size = 0.2)\n",
        "clf = LinearRegression()\n",
        "clf.fit(X_train, y_train)\n",
        "accuracy = clf.score(X_test, y_test)\n",
        "print(accuracy)"
      ],
      "execution_count": 204,
      "outputs": [
        {
          "output_type": "stream",
          "text": [
            "0.33326323394787294\n"
          ],
          "name": "stdout"
        }
      ]
    },
    {
      "cell_type": "code",
      "metadata": {
        "id": "tCgC49N0gHxc"
      },
      "source": [
        ""
      ],
      "execution_count": 186,
      "outputs": []
    }
  ]
}